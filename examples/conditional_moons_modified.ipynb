version https://git-lfs.github.com/spec/v1
oid sha256:e4e4a80c17be824a5af6595fa8a05653142f48bd38b8aed17a0c6ba31c53d741
size 174102
