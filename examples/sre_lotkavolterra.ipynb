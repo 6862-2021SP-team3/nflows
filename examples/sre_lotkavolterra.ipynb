{
 "cells": [
  {
   "cell_type": "markdown",
   "metadata": {},
   "source": [
    "\n",
    "# SRE"
   ]
  },
  {
   "cell_type": "code",
   "execution_count": null,
   "metadata": {},
   "outputs": [],
   "source": [
    "# get simulator and prior\n",
    "simulator, prior = simulators.get_simulator_and_prior(\"lotka-volterra\")\n",
    "\n",
    "# get classifier\n",
    "classifier = utils.get_classifier(\n",
    "    \"resnet\",\n",
    "    parameter_dim=simulator.parameter_dim,\n",
    "    observation_dim=simulator.observation_dim,\n",
    ")\n",
    "\n",
    "# create inference method\n",
    "inference_method = inference.SRE(\n",
    "    simulator=simulator,\n",
    "    prior=prior,\n",
    "    true_observation=simulator.get_ground_truth_observation(),\n",
    "    classifier=classifier,\n",
    "    mcmc_method=\"slice-np\",\n",
    ")"
   ]
  },
  {
   "cell_type": "code",
   "execution_count": null,
   "metadata": {},
   "outputs": [],
   "source": [
    "# run inference\n",
    "inference_method.run_inference(num_rounds=10, num_simulations_per_round=1000)\n",
    "\n",
    "# sample posterior\n",
    "samples = inference_method.sample_posterior(num_samples=10000)\n",
    "\n"
   ]
  },
  {
   "cell_type": "code",
   "execution_count": null,
   "metadata": {},
   "outputs": [],
   "source": [
    "# plot samples\n",
    "utils.plot_hist_marginals(\n",
    "    utils.tensor2numpy(samples),\n",
    "    lims=simulator.parameter_plotting_limits,\n",
    "    ground_truth=utils.tensor2numpy(simulator.get_ground_truth_parameters()).reshape(\n",
    "        -1\n",
    "    ),\n",
    ")\n",
    "plt.show()"
   ]
  },
  {
   "cell_type": "code",
   "execution_count": null,
   "metadata": {},
   "outputs": [],
   "source": []
  }
 ],
 "metadata": {
  "kernelspec": {
   "display_name": "Python 3",
   "language": "python",
   "name": "python3"
  },
  "language_info": {
   "codemirror_mode": {
    "name": "ipython",
    "version": 3
   },
   "file_extension": ".py",
   "mimetype": "text/x-python",
   "name": "python",
   "nbconvert_exporter": "python",
   "pygments_lexer": "ipython3",
   "version": "3.7.6"
  }
 },
 "nbformat": 4,
 "nbformat_minor": 4
}
